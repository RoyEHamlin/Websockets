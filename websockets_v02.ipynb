{
  "nbformat": 4,
  "nbformat_minor": 0,
  "metadata": {
    "colab": {
      "name": "websockets-v02.ipynb",
      "provenance": [],
      "collapsed_sections": [],
      "authorship_tag": "ABX9TyNZ1ymWfGIWp+35StYXHJgm",
      "include_colab_link": true
    },
    "kernelspec": {
      "name": "python3",
      "display_name": "Python 3"
    },
    "language_info": {
      "name": "python"
    }
  },
  "cells": [
    {
      "cell_type": "markdown",
      "metadata": {
        "id": "view-in-github",
        "colab_type": "text"
      },
      "source": [
        "<a href=\"https://colab.research.google.com/github/RoyEHamlin/Websockets/blob/main/websockets_v02.ipynb\" target=\"_parent\"><img src=\"https://colab.research.google.com/assets/colab-badge.svg\" alt=\"Open In Colab\"/></a>"
      ]
    },
    {
      "cell_type": "markdown",
      "source": [
        "# Basic Cryptocurrency feed from Binaance using Websockets\n",
        "## Tutorial at : https://www.youtube.com/watch?v=z2ePTq-KTzQ\n",
        "## Resources :\n",
        "### https://pypi.org/project/websocket-client/\n",
        "### https://websocket-client.readthedocs.io/en/latest/\n",
        "### https://binance-docs.github.io/apidocs/futures/en/\n",
        "### https://coinderivs.ams3.cdn.digitaloceanspaces.com/recent_liquidations.json (Binance)"
      ],
      "metadata": {
        "id": "Xkk52Q3oE0DU"
      }
    },
    {
      "cell_type": "code",
      "execution_count": 1,
      "metadata": {
        "colab": {
          "base_uri": "https://localhost:8080/"
        },
        "id": "WX1p8pQX8X5w",
        "outputId": "fcf84619-6c49-44c2-f006-b11d7f414af4"
      },
      "outputs": [
        {
          "output_type": "stream",
          "name": "stdout",
          "text": [
            "Collecting websocket-client\n",
            "  Downloading websocket_client-1.2.3-py3-none-any.whl (53 kB)\n",
            "\u001b[?25l\r\u001b[K     |██████▏                         | 10 kB 21.8 MB/s eta 0:00:01\r\u001b[K     |████████████▎                   | 20 kB 25.6 MB/s eta 0:00:01\r\u001b[K     |██████████████████▍             | 30 kB 11.6 MB/s eta 0:00:01\r\u001b[K     |████████████████████████▌       | 40 kB 8.9 MB/s eta 0:00:01\r\u001b[K     |██████████████████████████████▋ | 51 kB 5.2 MB/s eta 0:00:01\r\u001b[K     |████████████████████████████████| 53 kB 954 kB/s \n",
            "\u001b[?25hInstalling collected packages: websocket-client\n",
            "Successfully installed websocket-client-1.2.3\n"
          ]
        }
      ],
      "source": [
        "pip install websocket-client"
      ]
    },
    {
      "cell_type": "code",
      "source": [
        "import websocket, json"
      ],
      "metadata": {
        "id": "8A6W81-mDA2B"
      },
      "execution_count": 2,
      "outputs": []
    },
    {
      "cell_type": "code",
      "source": [
        "socket = 'wss://stream.binance.com:9443'"
      ],
      "metadata": {
        "id": "0bXEvnj3DI2u"
      },
      "execution_count": 3,
      "outputs": []
    },
    {
      "cell_type": "code",
      "source": [
        "cc = 'btcusd'\n",
        "interval = '1m'\n",
        "\n",
        "# socket = f'wss://stream.binance.com:9443/ws/{cc}t@kline_{interval}'\n",
        "socket = f'wss://fstream.binance.com/ws'\n",
        "# socket = 'wss://www.bitmex.com/realtime?subscribe=trade:XBTUSD,orderBookL2:XBTUSD,liquidation:XBTUSD'\n",
        "# socket = 'wss://www.bitmex.com/realtime?subscribe=trade:XBTUSD,liquidation:XBTUSD'\n",
        "# socket = "
      ],
      "metadata": {
        "id": "SgRyeLtCDteO"
      },
      "execution_count": 16,
      "outputs": []
    },
    {
      "cell_type": "code",
      "source": [
        "def on_message(ws, message):\n",
        "    print(message)\n",
        "\n",
        "\n",
        "def on_close(ws):\n",
        "    print(\"Connection Closed\")\n",
        "\n",
        "ws = websocket.WebSocketApp(socket, on_message=on_message, on_close=on_close)"
      ],
      "metadata": {
        "id": "C_1XSZGsGOnr"
      },
      "execution_count": 18,
      "outputs": []
    },
    {
      "cell_type": "code",
      "source": [
        "ws.run_forever()"
      ],
      "metadata": {
        "colab": {
          "base_uri": "https://localhost:8080/"
        },
        "id": "HClo6ezxG2Yj",
        "outputId": "3a39aa7b-3c15-40d8-e98d-f5ccba69c23f"
      },
      "execution_count": 19,
      "outputs": [
        {
          "output_type": "execute_result",
          "data": {
            "text/plain": [
              "False"
            ]
          },
          "metadata": {},
          "execution_count": 19
        }
      ]
    }
  ]
}