{
  "nbformat": 4,
  "nbformat_minor": 0,
  "metadata": {
    "colab": {
      "name": "websockets-v03.ipynb",
      "provenance": [],
      "collapsed_sections": [],
      "authorship_tag": "ABX9TyO9s9t6SZ0IvkXeimLT1CVI",
      "include_colab_link": true
    },
    "kernelspec": {
      "name": "python3",
      "display_name": "Python 3"
    },
    "language_info": {
      "name": "python"
    }
  },
  "cells": [
    {
      "cell_type": "markdown",
      "metadata": {
        "id": "view-in-github",
        "colab_type": "text"
      },
      "source": [
        "<a href=\"https://colab.research.google.com/github/RoyEHamlin/Websockets/blob/main/websockets_v03.ipynb\" target=\"_parent\"><img src=\"https://colab.research.google.com/assets/colab-badge.svg\" alt=\"Open In Colab\"/></a>"
      ]
    },
    {
      "cell_type": "markdown",
      "source": [
        "# Basic Cryptocurrency feed from Binaance using Websockets\n",
        "## Tutorial at : https://www.youtube.com/watch?v=z2ePTq-KTzQ\n",
        "## Resources :\n",
        "### https://pypi.org/project/websocket-client/\n",
        "### https://websocket-client.readthedocs.io/en/latest/\n",
        "### https://binance-docs.github.io/apidocs/futures/en/\n",
        "### https://coinderivs.ams3.cdn.digitaloceanspaces.com/recent_liquidations.json (Binance)\n",
        "### https://fapi.binance.com/fapi/v1/depth?symbol=BTCUSDT&limit=1000 (orderbook)"
      ],
      "metadata": {
        "id": "Xkk52Q3oE0DU"
      }
    },
    {
      "cell_type": "code",
      "execution_count": 1,
      "metadata": {
        "colab": {
          "base_uri": "https://localhost:8080/"
        },
        "id": "WX1p8pQX8X5w",
        "outputId": "ebfb2939-16e2-4fe6-ca42-61c1ce4d9af5"
      },
      "outputs": [
        {
          "output_type": "stream",
          "name": "stdout",
          "text": [
            "Collecting websocket-client\n",
            "  Downloading websocket_client-1.2.3-py3-none-any.whl (53 kB)\n",
            "\u001b[?25l\r\u001b[K     |██████▏                         | 10 kB 23.9 MB/s eta 0:00:01\r\u001b[K     |████████████▎                   | 20 kB 10.4 MB/s eta 0:00:01\r\u001b[K     |██████████████████▍             | 30 kB 6.6 MB/s eta 0:00:01\r\u001b[K     |████████████████████████▌       | 40 kB 6.1 MB/s eta 0:00:01\r\u001b[K     |██████████████████████████████▋ | 51 kB 5.2 MB/s eta 0:00:01\r\u001b[K     |████████████████████████████████| 53 kB 874 kB/s \n",
            "\u001b[?25hInstalling collected packages: websocket-client\n",
            "Successfully installed websocket-client-1.2.3\n"
          ]
        }
      ],
      "source": [
        "pip install websocket-client"
      ]
    },
    {
      "cell_type": "code",
      "source": [
        "import websocket, json"
      ],
      "metadata": {
        "id": "8A6W81-mDA2B"
      },
      "execution_count": 2,
      "outputs": []
    },
    {
      "cell_type": "code",
      "source": [
        "socket = 'wss://stream.binance.com:9443'"
      ],
      "metadata": {
        "id": "0bXEvnj3DI2u"
      },
      "execution_count": 4,
      "outputs": []
    },
    {
      "cell_type": "code",
      "source": [
        "cc = 'btcusd'\n",
        "interval = '1m'\n",
        "\n",
        "socket = f'wss://stream.binance.com:9443/ws/{cc}t@kline_{interval}'\n",
        "# socket = f'wss://fstream.binance.com/ws'\n",
        "# socket = 'wss://www.bitmex.com/realtime?subscribe=trade:XBTUSD,orderBookL2:XBTUSD,liquidation:XBTUSD'\n",
        "# socket = 'wss://www.bitmex.com/realtime?subscribe=trade:XBTUSD,liquidation:XBTUSD'\n",
        "# socket = "
      ],
      "metadata": {
        "id": "SgRyeLtCDteO"
      },
      "execution_count": 5,
      "outputs": []
    },
    {
      "cell_type": "code",
      "source": [
        "import pandas as pd\n",
        "\n",
        "df = pd.DataFrame()"
      ],
      "metadata": {
        "id": "KnbcI7OoAif5"
      },
      "execution_count": 58,
      "outputs": []
    },
    {
      "cell_type": "code",
      "source": [
        "def on_message(ws, message):\n",
        "    # print(message)\n",
        "    msg = json.loads(message)\n",
        "    print(msg)\n",
        "    global df\n",
        "    df = df.append(msg, ignore_index=True)\n",
        "    # df1.shape()\n",
        "    # print('hello')\n",
        "    # print(df1.head(10))\n",
        "    # trade = message\n",
        "    # trades[\"next\"] = trade\n",
        "    # print(trades)\n",
        "\n",
        "\n",
        "\n",
        "\n",
        "\n",
        "def on_close(ws):\n",
        "    print(\"Connection Closed\")\n",
        "\n",
        "def on_open(ws):\n",
        "    def run(*args):\n",
        "        for i in range(3):\n",
        "            time.sleep(1)\n",
        "            ws.send(\"Hello %d\" % i)\n",
        "        time.sleep(1)\n",
        "        ws.close()\n",
        "        print(\"thread terminating...\")\n",
        "    _thread.start_new_thread(run, ())\n",
        "\n",
        "\n",
        "\n",
        "ws = websocket.WebSocketApp(socket, on_message=on_message, on_close=on_close)"
      ],
      "metadata": {
        "id": "C_1XSZGsGOnr"
      },
      "execution_count": 67,
      "outputs": []
    },
    {
      "cell_type": "code",
      "source": [
        "# ws.run\n",
        "\n",
        "ws.run_forever()\n",
        "# import time\n",
        "# ws.close()\n",
        "\n",
        "\n",
        "\n"
      ],
      "metadata": {
        "id": "HClo6ezxG2Yj",
        "colab": {
          "base_uri": "https://localhost:8080/"
        },
        "outputId": "c55b7b6e-56e1-4325-db3b-c9dafcfcb406"
      },
      "execution_count": 68,
      "outputs": [
        {
          "output_type": "stream",
          "name": "stdout",
          "text": [
            "{'e': 'kline', 'E': 1639706154044, 's': 'BTCUSDT', 'k': {'t': 1639706100000, 'T': 1639706159999, 's': 'BTCUSDT', 'i': '1m', 'f': 1192361406, 'L': 1192361652, 'o': '47771.02000000', 'c': '47770.01000000', 'h': '47779.00000000', 'l': '47764.07000000', 'v': '4.18364000', 'n': 247, 'x': False, 'q': '199860.65161910', 'V': '1.53490000', 'Q': '73326.12100210', 'B': '0'}}\n",
            "{'e': 'kline', 'E': 1639706156974, 's': 'BTCUSDT', 'k': {'t': 1639706100000, 'T': 1639706159999, 's': 'BTCUSDT', 'i': '1m', 'f': 1192361406, 'L': 1192361658, 'o': '47771.02000000', 'c': '47770.00000000', 'h': '47779.00000000', 'l': '47764.07000000', 'v': '4.21152000', 'n': 253, 'x': False, 'q': '201192.47932510', 'V': '1.54550000', 'Q': '73832.48310810', 'B': '0'}}\n",
            "{'e': 'kline', 'E': 1639706158982, 's': 'BTCUSDT', 'k': {'t': 1639706100000, 'T': 1639706159999, 's': 'BTCUSDT', 'i': '1m', 'f': 1192361406, 'L': 1192361664, 'o': '47771.02000000', 'c': '47770.00000000', 'h': '47779.00000000', 'l': '47764.07000000', 'v': '4.23279000', 'n': 259, 'x': False, 'q': '202208.54724030', 'V': '1.54702000', 'Q': '73905.09352330', 'B': '0'}}\n",
            "{'e': 'kline', 'E': 1639706160002, 's': 'BTCUSDT', 'k': {'t': 1639706100000, 'T': 1639706159999, 's': 'BTCUSDT', 'i': '1m', 'f': 1192361406, 'L': 1192361680, 'o': '47771.02000000', 'c': '47770.01000000', 'h': '47779.00000000', 'l': '47764.07000000', 'v': '4.28322000', 'n': 275, 'x': True, 'q': '204617.58853760', 'V': '1.56675000', 'Q': '74847.59582060', 'B': '0'}}\n"
          ]
        },
        {
          "output_type": "execute_result",
          "data": {
            "text/plain": [
              "False"
            ]
          },
          "metadata": {},
          "execution_count": 68
        }
      ]
    },
    {
      "cell_type": "code",
      "source": [
        "df"
      ],
      "metadata": {
        "colab": {
          "base_uri": "https://localhost:8080/",
          "height": 175
        },
        "id": "WxZU6B9mBhYT",
        "outputId": "539707aa-84b9-44c0-ce7c-f5e17ed30c7e"
      },
      "execution_count": 69,
      "outputs": [
        {
          "output_type": "execute_result",
          "data": {
            "text/html": [
              "\n",
              "  <div id=\"df-d49a3dce-de24-47bd-8781-24ddb387ab43\">\n",
              "    <div class=\"colab-df-container\">\n",
              "      <div>\n",
              "<style scoped>\n",
              "    .dataframe tbody tr th:only-of-type {\n",
              "        vertical-align: middle;\n",
              "    }\n",
              "\n",
              "    .dataframe tbody tr th {\n",
              "        vertical-align: top;\n",
              "    }\n",
              "\n",
              "    .dataframe thead th {\n",
              "        text-align: right;\n",
              "    }\n",
              "</style>\n",
              "<table border=\"1\" class=\"dataframe\">\n",
              "  <thead>\n",
              "    <tr style=\"text-align: right;\">\n",
              "      <th></th>\n",
              "      <th>E</th>\n",
              "      <th>e</th>\n",
              "      <th>k</th>\n",
              "      <th>s</th>\n",
              "    </tr>\n",
              "  </thead>\n",
              "  <tbody>\n",
              "    <tr>\n",
              "      <th>0</th>\n",
              "      <td>1.639706e+12</td>\n",
              "      <td>kline</td>\n",
              "      <td>{'t': 1639706100000, 'T': 1639706159999, 's': ...</td>\n",
              "      <td>BTCUSDT</td>\n",
              "    </tr>\n",
              "    <tr>\n",
              "      <th>1</th>\n",
              "      <td>1.639706e+12</td>\n",
              "      <td>kline</td>\n",
              "      <td>{'t': 1639706100000, 'T': 1639706159999, 's': ...</td>\n",
              "      <td>BTCUSDT</td>\n",
              "    </tr>\n",
              "    <tr>\n",
              "      <th>2</th>\n",
              "      <td>1.639706e+12</td>\n",
              "      <td>kline</td>\n",
              "      <td>{'t': 1639706100000, 'T': 1639706159999, 's': ...</td>\n",
              "      <td>BTCUSDT</td>\n",
              "    </tr>\n",
              "    <tr>\n",
              "      <th>3</th>\n",
              "      <td>1.639706e+12</td>\n",
              "      <td>kline</td>\n",
              "      <td>{'t': 1639706100000, 'T': 1639706159999, 's': ...</td>\n",
              "      <td>BTCUSDT</td>\n",
              "    </tr>\n",
              "  </tbody>\n",
              "</table>\n",
              "</div>\n",
              "      <button class=\"colab-df-convert\" onclick=\"convertToInteractive('df-d49a3dce-de24-47bd-8781-24ddb387ab43')\"\n",
              "              title=\"Convert this dataframe to an interactive table.\"\n",
              "              style=\"display:none;\">\n",
              "        \n",
              "  <svg xmlns=\"http://www.w3.org/2000/svg\" height=\"24px\"viewBox=\"0 0 24 24\"\n",
              "       width=\"24px\">\n",
              "    <path d=\"M0 0h24v24H0V0z\" fill=\"none\"/>\n",
              "    <path d=\"M18.56 5.44l.94 2.06.94-2.06 2.06-.94-2.06-.94-.94-2.06-.94 2.06-2.06.94zm-11 1L8.5 8.5l.94-2.06 2.06-.94-2.06-.94L8.5 2.5l-.94 2.06-2.06.94zm10 10l.94 2.06.94-2.06 2.06-.94-2.06-.94-.94-2.06-.94 2.06-2.06.94z\"/><path d=\"M17.41 7.96l-1.37-1.37c-.4-.4-.92-.59-1.43-.59-.52 0-1.04.2-1.43.59L10.3 9.45l-7.72 7.72c-.78.78-.78 2.05 0 2.83L4 21.41c.39.39.9.59 1.41.59.51 0 1.02-.2 1.41-.59l7.78-7.78 2.81-2.81c.8-.78.8-2.07 0-2.86zM5.41 20L4 18.59l7.72-7.72 1.47 1.35L5.41 20z\"/>\n",
              "  </svg>\n",
              "      </button>\n",
              "      \n",
              "  <style>\n",
              "    .colab-df-container {\n",
              "      display:flex;\n",
              "      flex-wrap:wrap;\n",
              "      gap: 12px;\n",
              "    }\n",
              "\n",
              "    .colab-df-convert {\n",
              "      background-color: #E8F0FE;\n",
              "      border: none;\n",
              "      border-radius: 50%;\n",
              "      cursor: pointer;\n",
              "      display: none;\n",
              "      fill: #1967D2;\n",
              "      height: 32px;\n",
              "      padding: 0 0 0 0;\n",
              "      width: 32px;\n",
              "    }\n",
              "\n",
              "    .colab-df-convert:hover {\n",
              "      background-color: #E2EBFA;\n",
              "      box-shadow: 0px 1px 2px rgba(60, 64, 67, 0.3), 0px 1px 3px 1px rgba(60, 64, 67, 0.15);\n",
              "      fill: #174EA6;\n",
              "    }\n",
              "\n",
              "    [theme=dark] .colab-df-convert {\n",
              "      background-color: #3B4455;\n",
              "      fill: #D2E3FC;\n",
              "    }\n",
              "\n",
              "    [theme=dark] .colab-df-convert:hover {\n",
              "      background-color: #434B5C;\n",
              "      box-shadow: 0px 1px 3px 1px rgba(0, 0, 0, 0.15);\n",
              "      filter: drop-shadow(0px 1px 2px rgba(0, 0, 0, 0.3));\n",
              "      fill: #FFFFFF;\n",
              "    }\n",
              "  </style>\n",
              "\n",
              "      <script>\n",
              "        const buttonEl =\n",
              "          document.querySelector('#df-d49a3dce-de24-47bd-8781-24ddb387ab43 button.colab-df-convert');\n",
              "        buttonEl.style.display =\n",
              "          google.colab.kernel.accessAllowed ? 'block' : 'none';\n",
              "\n",
              "        async function convertToInteractive(key) {\n",
              "          const element = document.querySelector('#df-d49a3dce-de24-47bd-8781-24ddb387ab43');\n",
              "          const dataTable =\n",
              "            await google.colab.kernel.invokeFunction('convertToInteractive',\n",
              "                                                     [key], {});\n",
              "          if (!dataTable) return;\n",
              "\n",
              "          const docLinkHtml = 'Like what you see? Visit the ' +\n",
              "            '<a target=\"_blank\" href=https://colab.research.google.com/notebooks/data_table.ipynb>data table notebook</a>'\n",
              "            + ' to learn more about interactive tables.';\n",
              "          element.innerHTML = '';\n",
              "          dataTable['output_type'] = 'display_data';\n",
              "          await google.colab.output.renderOutput(dataTable, element);\n",
              "          const docLink = document.createElement('div');\n",
              "          docLink.innerHTML = docLinkHtml;\n",
              "          element.appendChild(docLink);\n",
              "        }\n",
              "      </script>\n",
              "    </div>\n",
              "  </div>\n",
              "  "
            ],
            "text/plain": [
              "              E  ...        s\n",
              "0  1.639706e+12  ...  BTCUSDT\n",
              "1  1.639706e+12  ...  BTCUSDT\n",
              "2  1.639706e+12  ...  BTCUSDT\n",
              "3  1.639706e+12  ...  BTCUSDT\n",
              "\n",
              "[4 rows x 4 columns]"
            ]
          },
          "metadata": {},
          "execution_count": 69
        }
      ]
    }
  ]
}