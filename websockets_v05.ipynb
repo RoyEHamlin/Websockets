{
  "nbformat": 4,
  "nbformat_minor": 0,
  "metadata": {
    "colab": {
      "name": "websockets-v05.ipynb",
      "provenance": [],
      "collapsed_sections": [],
      "authorship_tag": "ABX9TyPl4CV3pOnQot5WjX9Q20m8",
      "include_colab_link": true
    },
    "kernelspec": {
      "name": "python3",
      "display_name": "Python 3"
    },
    "language_info": {
      "name": "python"
    }
  },
  "cells": [
    {
      "cell_type": "markdown",
      "metadata": {
        "id": "view-in-github",
        "colab_type": "text"
      },
      "source": [
        "<a href=\"https://colab.research.google.com/github/RoyEHamlin/Websockets/blob/main/websockets_v05.ipynb\" target=\"_parent\"><img src=\"https://colab.research.google.com/assets/colab-badge.svg\" alt=\"Open In Colab\"/></a>"
      ]
    },
    {
      "cell_type": "markdown",
      "source": [
        "# Basic Cryptocurrency feed from Binaance using Websockets\n",
        "## Tutorial at : https://www.youtube.com/watch?v=z2ePTq-KTzQ\n",
        "## Resources :\n",
        "### https://pypi.org/project/websocket-client/\n",
        "### https://websocket-client.readthedocs.io/en/latest/\n",
        "### https://binance-docs.github.io/apidocs/futures/en/\n",
        "### https://developers.binance.com/docs/binance-api/spot-detail/web-socket-streams/#klinecandlestick-streams (example)\n",
        "### https://coinderivs.ams3.cdn.digitaloceanspaces.com/recent_liquidations.json (Binance)\n",
        "### https://fapi.binance.com/fapi/v1/depth?symbol=BTCUSDT&limit=1000 (orderbook)"
      ],
      "metadata": {
        "id": "Xkk52Q3oE0DU"
      }
    },
    {
      "cell_type": "code",
      "execution_count": 102,
      "metadata": {
        "colab": {
          "base_uri": "https://localhost:8080/"
        },
        "id": "WX1p8pQX8X5w",
        "outputId": "8e2134c7-8094-436a-dd3d-cf1b89f04023"
      },
      "outputs": [
        {
          "output_type": "stream",
          "name": "stdout",
          "text": [
            "Requirement already satisfied: websocket-client in /usr/local/lib/python3.7/dist-packages (1.2.3)\n"
          ]
        }
      ],
      "source": [
        "pip install websocket-client"
      ]
    },
    {
      "cell_type": "code",
      "source": [
        "import websocket, json"
      ],
      "metadata": {
        "id": "8A6W81-mDA2B"
      },
      "execution_count": 103,
      "outputs": []
    },
    {
      "cell_type": "code",
      "source": [
        "from google.colab import drive\n",
        "drive.mount(\"/content/gdrive\")"
      ],
      "metadata": {
        "colab": {
          "base_uri": "https://localhost:8080/"
        },
        "id": "Uc_AJKNv_jp1",
        "outputId": "3b81784e-509f-4bc4-b57a-ba6dd17e7263"
      },
      "execution_count": 104,
      "outputs": [
        {
          "output_type": "stream",
          "name": "stdout",
          "text": [
            "Drive already mounted at /content/gdrive; to attempt to forcibly remount, call drive.mount(\"/content/gdrive\", force_remount=True).\n"
          ]
        }
      ]
    },
    {
      "cell_type": "code",
      "source": [
        "cc = 'btcusd'\n",
        "interval = '1m'\n",
        "\n",
        "socket = f'wss://stream.binance.com:9443/ws/{cc}t@kline_{interval}'"
      ],
      "metadata": {
        "id": "SgRyeLtCDteO"
      },
      "execution_count": 105,
      "outputs": []
    },
    {
      "cell_type": "code",
      "source": [
        "import pandas as pd\n",
        "\n",
        "r1 = {\n",
        "    \"unix_time\" : 1.1,\n",
        "    \"symbol\" : \"BTCUSDT\",\n",
        "    \"open\" : 1.2,\n",
        "    \"close\" : 1.3,\n",
        "    \"high\" : 1.4,\n",
        "    \"low\" : 1.5,\n",
        "    \"vol\" : 1.6,\n",
        "    \"buy_vol\" : 1.7,\n",
        "    \"num_trades\" : 1,\n",
        "    \"candle_close\" : True\n",
        "}\n",
        "\n",
        "# creates the df, then drops the dummy row to cast columns as correct types ONLY.\n",
        "df = pd.DataFrame(r1, index=['a'])\n",
        "df = df.drop('a') # d\n",
        "old_time = int(datetime.fromtimestamp(time.time()).strftime(\"%S\")) // 5 # old time stamp, as 1/12 of a minute\n",
        "new_time = int(datetime.fromtimestamp(time.time()).strftime(\"%S\")) // 5 # new time stamp, as 1/12 of a minute"
      ],
      "metadata": {
        "id": "KnbcI7OoAif5"
      },
      "execution_count": 112,
      "outputs": []
    },
    {
      "cell_type": "code",
      "source": [
        "# from numpy.ma.extras import count_masked\n",
        "\n",
        "def on_message(ws, message):\n",
        "    msg = json.loads(message)\n",
        "\n",
        "    # if msg is next multiple of \"5\", save this row.  Otherwise ignore.\n",
        "    global old_time\n",
        "    global new_time\n",
        "    print(old_time)\n",
        "    # print(int(datetime.fromtimestamp(msg[\"E\"]).strftime(\"%S\")))\n",
        "    # print(int(datetime.fromtimestamp(msg[\"E\"]/1000).strftime(\"%S\")))\n",
        "    new_time = int(datetime.fromtimestamp(msg[\"E\"]/1000).strftime(\"%S\")) // 5\n",
        "    print(new_time)\n",
        "    # print(f\"old:{old_time} and new:{new_time}\")\n",
        "    if old_time != new_time:\n",
        "        old_time = new_time\n",
        "    \n",
        "        row = {\n",
        "            \"unix_time\" : msg[\"E\"]/1000,\n",
        "            \"symbol\" : msg[\"k\"][\"s\"],\n",
        "            \"open\" : msg[\"k\"][\"o\"],\n",
        "            \"close\" : msg[\"k\"][\"c\"],\n",
        "            \"high\" : msg[\"k\"][\"h\"],\n",
        "            \"low\" : msg[\"k\"][\"l\"],\n",
        "            \"vol\" : msg[\"k\"][\"v\"],\n",
        "            \"buy_vol\" : msg[\"k\"][\"V\"],\n",
        "            \"num_trades\" : int(msg[\"k\"][\"n\"]),\n",
        "            \"candle_close\" : bool(msg[\"k\"][\"x\"])\n",
        "        }\n",
        "\n",
        "        global df\n",
        "        df = df.append(row, ignore_index=True)\n",
        "\n",
        "        df.to_csv(\"btcprices.csv\", index=False, encoding='utf-8-sig')\n",
        "\n",
        "\n",
        "\n",
        "\n",
        "\n",
        "def on_close(ws):\n",
        "    print(\"Connection Closed\")\n",
        "\n",
        "def on_open(ws):\n",
        "    def run(*args):\n",
        "        for i in range(3):\n",
        "            time.sleep(1)\n",
        "            ws.send(\"Hello %d\" % i)\n",
        "        time.sleep(1)\n",
        "        ws.close()\n",
        "        print(\"thread terminating...\")\n",
        "    _thread.start_new_thread(run, ())\n",
        "\n",
        "\n",
        "\n",
        "ws = websocket.WebSocketApp(socket, on_message=on_message, on_close=on_close)"
      ],
      "metadata": {
        "id": "C_1XSZGsGOnr"
      },
      "execution_count": 107,
      "outputs": []
    },
    {
      "cell_type": "code",
      "source": [
        "ws.run_forever()\n"
      ],
      "metadata": {
        "id": "HClo6ezxG2Yj",
        "colab": {
          "base_uri": "https://localhost:8080/"
        },
        "outputId": "b022c740-82de-44c0-cffe-c26deec3a798"
      },
      "execution_count": 113,
      "outputs": [
        {
          "output_type": "stream",
          "name": "stdout",
          "text": [
            "0\n",
            "1\n",
            "1\n",
            "1\n",
            "1\n",
            "2\n",
            "2\n",
            "2\n",
            "2\n",
            "3\n",
            "3\n",
            "3\n",
            "3\n",
            "3\n",
            "3\n",
            "4\n",
            "4\n",
            "4\n",
            "4\n",
            "5\n",
            "5\n",
            "5\n",
            "5\n",
            "6\n",
            "6\n",
            "6\n",
            "6\n",
            "6\n",
            "6\n",
            "7\n",
            "7\n",
            "7\n",
            "7\n",
            "8\n",
            "8\n",
            "8\n",
            "8\n",
            "9\n",
            "9\n",
            "9\n",
            "9\n",
            "9\n",
            "9\n",
            "10\n",
            "10\n",
            "10\n",
            "10\n",
            "11\n",
            "11\n",
            "11\n",
            "11\n",
            "0\n",
            "0\n",
            "0\n",
            "0\n",
            "0\n",
            "0\n",
            "1\n",
            "1\n",
            "1\n",
            "1\n",
            "2\n",
            "2\n",
            "2\n",
            "2\n",
            "3\n",
            "3\n",
            "3\n",
            "3\n",
            "4\n",
            "4\n",
            "4\n",
            "4\n",
            "5\n",
            "5\n",
            "5\n",
            "5\n",
            "6\n",
            "6\n",
            "6\n",
            "6\n",
            "6\n",
            "6\n",
            "7\n",
            "7\n",
            "7\n",
            "7\n",
            "8\n",
            "8\n",
            "8\n",
            "8\n",
            "9\n",
            "9\n",
            "9\n",
            "9\n",
            "10\n",
            "10\n",
            "10\n",
            "10\n",
            "11\n",
            "11\n",
            "11\n",
            "11\n",
            "11\n",
            "11\n",
            "0\n",
            "0\n",
            "0\n",
            "0\n",
            "0\n"
          ]
        },
        {
          "output_type": "execute_result",
          "data": {
            "text/plain": [
              "False"
            ]
          },
          "metadata": {},
          "execution_count": 113
        }
      ]
    },
    {
      "cell_type": "code",
      "source": [
        " # https://towardsdatascience.com/google-colab-import-and-export-datasets-eccf801e2971\n",
        " df.to_csv(\"/btcprices.csv\", index=False, encoding='utf-8-sig')\n",
        " df\n",
        " from google.colab import files\n",
        " df.to_csv('sample.csv')\n",
        " files.download('sample.csv')"
      ],
      "metadata": {
        "colab": {
          "base_uri": "https://localhost:8080/",
          "height": 17
        },
        "id": "Nj-m6mK8CJkY",
        "outputId": "886aa46f-0606-4447-9120-1f4892a9cd03"
      },
      "execution_count": 120,
      "outputs": [
        {
          "output_type": "display_data",
          "data": {
            "application/javascript": [
              "\n",
              "    async function download(id, filename, size) {\n",
              "      if (!google.colab.kernel.accessAllowed) {\n",
              "        return;\n",
              "      }\n",
              "      const div = document.createElement('div');\n",
              "      const label = document.createElement('label');\n",
              "      label.textContent = `Downloading \"${filename}\": `;\n",
              "      div.appendChild(label);\n",
              "      const progress = document.createElement('progress');\n",
              "      progress.max = size;\n",
              "      div.appendChild(progress);\n",
              "      document.body.appendChild(div);\n",
              "\n",
              "      const buffers = [];\n",
              "      let downloaded = 0;\n",
              "\n",
              "      const channel = await google.colab.kernel.comms.open(id);\n",
              "      // Send a message to notify the kernel that we're ready.\n",
              "      channel.send({})\n",
              "\n",
              "      for await (const message of channel.messages) {\n",
              "        // Send a message to notify the kernel that we're ready.\n",
              "        channel.send({})\n",
              "        if (message.buffers) {\n",
              "          for (const buffer of message.buffers) {\n",
              "            buffers.push(buffer);\n",
              "            downloaded += buffer.byteLength;\n",
              "            progress.value = downloaded;\n",
              "          }\n",
              "        }\n",
              "      }\n",
              "      const blob = new Blob(buffers, {type: 'application/binary'});\n",
              "      const a = document.createElement('a');\n",
              "      a.href = window.URL.createObjectURL(blob);\n",
              "      a.download = filename;\n",
              "      div.appendChild(a);\n",
              "      a.click();\n",
              "      div.remove();\n",
              "    }\n",
              "  "
            ],
            "text/plain": [
              "<IPython.core.display.Javascript object>"
            ]
          },
          "metadata": {}
        },
        {
          "output_type": "display_data",
          "data": {
            "application/javascript": [
              "download(\"download_f8af5ac5-a6f8-4619-8170-5af60826a16d\", \"sample.csv\", 2902)"
            ],
            "text/plain": [
              "<IPython.core.display.Javascript object>"
            ]
          },
          "metadata": {}
        }
      ]
    }
  ]
}