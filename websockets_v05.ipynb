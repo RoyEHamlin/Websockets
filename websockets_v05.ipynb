{
  "nbformat": 4,
  "nbformat_minor": 0,
  "metadata": {
    "colab": {
      "name": "websockets-v05.ipynb",
      "provenance": [],
      "collapsed_sections": [],
      "authorship_tag": "ABX9TyPPXbnUpyeNHmVGRWeEXZ3P",
      "include_colab_link": true
    },
    "kernelspec": {
      "name": "python3",
      "display_name": "Python 3"
    },
    "language_info": {
      "name": "python"
    }
  },
  "cells": [
    {
      "cell_type": "markdown",
      "metadata": {
        "id": "view-in-github",
        "colab_type": "text"
      },
      "source": [
        "<a href=\"https://colab.research.google.com/github/RoyEHamlin/Websockets/blob/main/websockets_v05.ipynb\" target=\"_parent\"><img src=\"https://colab.research.google.com/assets/colab-badge.svg\" alt=\"Open In Colab\"/></a>"
      ]
    },
    {
      "cell_type": "markdown",
      "source": [
        "# Basic Cryptocurrency feed from Binaance using Websockets\n",
        "## Tutorial at : https://www.youtube.com/watch?v=z2ePTq-KTzQ\n",
        "## Resources :\n",
        "### https://pypi.org/project/websocket-client/\n",
        "### https://websocket-client.readthedocs.io/en/latest/\n",
        "### https://binance-docs.github.io/apidocs/futures/en/\n",
        "### https://developers.binance.com/docs/binance-api/spot-detail/web-socket-streams/#klinecandlestick-streams (example)\n",
        "### https://coinderivs.ams3.cdn.digitaloceanspaces.com/recent_liquidations.json (Binance)\n",
        "### https://fapi.binance.com/fapi/v1/depth?symbol=BTCUSDT&limit=1000 (orderbook)"
      ],
      "metadata": {
        "id": "Xkk52Q3oE0DU"
      }
    },
    {
      "cell_type": "code",
      "execution_count": null,
      "metadata": {
        "colab": {
          "base_uri": "https://localhost:8080/"
        },
        "id": "WX1p8pQX8X5w",
        "outputId": "a5d7b2e5-f3fb-4882-a238-91306a8a89f6"
      },
      "outputs": [
        {
          "output_type": "stream",
          "name": "stdout",
          "text": [
            "Collecting websocket-client\n",
            "  Downloading websocket_client-1.2.3-py3-none-any.whl (53 kB)\n",
            "\u001b[?25l\r\u001b[K     |██████▏                         | 10 kB 18.7 MB/s eta 0:00:01\r\u001b[K     |████████████▎                   | 20 kB 9.9 MB/s eta 0:00:01\r\u001b[K     |██████████████████▍             | 30 kB 8.3 MB/s eta 0:00:01\r\u001b[K     |████████████████████████▌       | 40 kB 7.3 MB/s eta 0:00:01\r\u001b[K     |██████████████████████████████▋ | 51 kB 4.2 MB/s eta 0:00:01\r\u001b[K     |████████████████████████████████| 53 kB 880 kB/s \n",
            "\u001b[?25hInstalling collected packages: websocket-client\n",
            "Successfully installed websocket-client-1.2.3\n"
          ]
        }
      ],
      "source": [
        "pip install websocket-client"
      ]
    },
    {
      "cell_type": "code",
      "source": [
        "import websocket, json"
      ],
      "metadata": {
        "id": "8A6W81-mDA2B"
      },
      "execution_count": null,
      "outputs": []
    },
    {
      "cell_type": "code",
      "source": [
        "from google.colab import drive\n",
        "drive.mount(\"/content/gdrive\")"
      ],
      "metadata": {
        "colab": {
          "base_uri": "https://localhost:8080/"
        },
        "id": "Uc_AJKNv_jp1",
        "outputId": "fb15fe7a-d5d7-437c-dd03-a14fb9f9e0a1"
      },
      "execution_count": null,
      "outputs": [
        {
          "output_type": "stream",
          "name": "stdout",
          "text": [
            "Mounted at /content/gdrive\n"
          ]
        }
      ]
    },
    {
      "cell_type": "code",
      "source": [
        "cc = 'btcusd'\n",
        "interval = '1m'\n",
        "\n",
        "socket = f'wss://stream.binance.com:9443/ws/{cc}t@kline_{interval}'"
      ],
      "metadata": {
        "id": "SgRyeLtCDteO"
      },
      "execution_count": null,
      "outputs": []
    },
    {
      "cell_type": "code",
      "source": [
        "import pandas as pd\n",
        "from datetime import datetime\n",
        "import time\n",
        "\n",
        "r1 = {\n",
        "    \"unix_time\" : 1.1,\n",
        "    \"symbol\" : \"BTCUSDT\",\n",
        "    \"open\" : 1.2,\n",
        "    \"close\" : 1.3,\n",
        "    \"high\" : 1.4,\n",
        "    \"low\" : 1.5,\n",
        "    \"vol\" : 1.6,\n",
        "    \"buy_vol\" : 1.7,\n",
        "    \"num_trades\" : 1,\n",
        "    \"candle_close\" : True\n",
        "}\n",
        "\n",
        "# creates the df, then drops the dummy row to cast columns as correct types ONLY.\n",
        "df = pd.DataFrame(r1, index=['a'])\n",
        "df = df.drop('a') # d\n",
        "old_time = int(datetime.fromtimestamp(time.time()).strftime(\"%S\")) // 5 # old time stamp, as 1/12 of a minute\n",
        "new_time = int(datetime.fromtimestamp(time.time()).strftime(\"%S\")) // 5 # new time stamp, as 1/12 of a minute"
      ],
      "metadata": {
        "id": "KnbcI7OoAif5"
      },
      "execution_count": null,
      "outputs": []
    },
    {
      "cell_type": "code",
      "source": [
        "# from numpy.ma.extras import count_masked\n",
        "\n",
        "def on_message(ws, message):\n",
        "    msg = json.loads(message)\n",
        "\n",
        "    # if msg is next multiple of \"5\", save this row.  Otherwise ignore.\n",
        "    global old_time\n",
        "    global new_time\n",
        "    print(old_time)\n",
        "    # print(int(datetime.fromtimestamp(msg[\"E\"]).strftime(\"%S\")))\n",
        "    # print(int(datetime.fromtimestamp(msg[\"E\"]/1000).strftime(\"%S\")))\n",
        "    new_time = int(datetime.fromtimestamp(msg[\"E\"]/1000).strftime(\"%S\")) // 5\n",
        "    # print(new_time)\n",
        "    # print(f\"old:{old_time} and new:{new_time}\")\n",
        "    if old_time != new_time:\n",
        "        old_time = new_time\n",
        "    \n",
        "        row = {\n",
        "            \"unix_time\" : msg[\"E\"]/1000,\n",
        "            \"symbol\" : msg[\"k\"][\"s\"],\n",
        "            \"open\" : msg[\"k\"][\"o\"],\n",
        "            \"close\" : msg[\"k\"][\"c\"],\n",
        "            \"high\" : msg[\"k\"][\"h\"],\n",
        "            \"low\" : msg[\"k\"][\"l\"],\n",
        "            \"vol\" : msg[\"k\"][\"v\"],\n",
        "            \"buy_vol\" : msg[\"k\"][\"V\"],\n",
        "            \"num_trades\" : int(msg[\"k\"][\"n\"]),\n",
        "            \"candle_close\" : bool(msg[\"k\"][\"x\"])\n",
        "        }\n",
        "\n",
        "        global df\n",
        "        df = df.append(row, ignore_index=True)\n",
        "\n",
        "        # df.to_csv(\"btcprices.csv\", index=False, encoding='utf-8-sig')\n",
        "\n",
        "        print(row)\n",
        "        with open('/gdrive/MyDrive/crypto/btcusdt.csv', 'w') as writefile:\n",
        "            writefile.write(row)\n",
        "\n",
        "\n",
        "\n",
        "\n",
        "\n",
        "def on_close(ws):\n",
        "    print(\"Connection Closed\")\n",
        "\n",
        "def on_open(ws):\n",
        "    def run(*args):\n",
        "        for i in range(3):\n",
        "            time.sleep(1)\n",
        "            ws.send(\"Hello %d\" % i)\n",
        "        time.sleep(1)\n",
        "        ws.close()\n",
        "        print(\"thread terminating...\")\n",
        "    _thread.start_new_thread(run, ())\n",
        "\n",
        "\n",
        "\n",
        "ws = websocket.WebSocketApp(socket, on_message=on_message, on_close=on_close)"
      ],
      "metadata": {
        "id": "C_1XSZGsGOnr"
      },
      "execution_count": null,
      "outputs": []
    },
    {
      "cell_type": "code",
      "source": [
        "ws.run_forever()\n"
      ],
      "metadata": {
        "id": "HClo6ezxG2Yj",
        "colab": {
          "base_uri": "https://localhost:8080/"
        },
        "outputId": "7b30e312-1aa2-4da9-9bc9-73b44d555113"
      },
      "execution_count": null,
      "outputs": [
        {
          "output_type": "stream",
          "name": "stdout",
          "text": [
            "9\n",
            "{'unix_time': 1639780913.045, 'symbol': 'BTCUSDT', 'open': '46298.59000000', 'close': '46296.18000000', 'high': '46298.60000000', 'low': '46295.00000000', 'vol': '10.00030000', 'buy_vol': '7.82463000', 'num_trades': 355, 'candle_close': False}\n",
            "10\n",
            "{'unix_time': 1639780915.115, 'symbol': 'BTCUSDT', 'open': '46298.59000000', 'close': '46296.18000000', 'high': '46298.60000000', 'low': '46295.00000000', 'vol': '10.02332000', 'buy_vol': '7.84688000', 'num_trades': 358, 'candle_close': False}\n",
            "11\n",
            "11\n",
            "11\n",
            "{'unix_time': 1639780920.001, 'symbol': 'BTCUSDT', 'open': '46298.59000000', 'close': '46301.39000000', 'high': '46309.26000000', 'low': '46295.00000000', 'vol': '10.98056000', 'buy_vol': '8.67580000', 'num_trades': 406, 'candle_close': True}\n",
            "0\n",
            "0\n",
            "0\n",
            "{'unix_time': 1639780927.036, 'symbol': 'BTCUSDT', 'open': '46301.38000000', 'close': '46300.37000000', 'high': '46301.39000000', 'low': '46295.12000000', 'vol': '1.02437000', 'buy_vol': '0.36406000', 'num_trades': 35, 'candle_close': False}\n",
            "1\n",
            "1\n",
            "{'unix_time': 1639780931.489, 'symbol': 'BTCUSDT', 'open': '46301.38000000', 'close': '46297.12000000', 'high': '46301.39000000', 'low': '46295.01000000', 'vol': '1.75706000', 'buy_vol': '0.49834000', 'num_trades': 76, 'candle_close': False}\n",
            "2\n",
            "2\n",
            "{'unix_time': 1639780936.128, 'symbol': 'BTCUSDT', 'open': '46301.38000000', 'close': '46295.77000000', 'high': '46301.39000000', 'low': '46295.01000000', 'vol': '2.06654000', 'buy_vol': '0.56894000', 'num_trades': 99, 'candle_close': False}\n",
            "3\n",
            "3\n",
            "{'unix_time': 1639780941.075, 'symbol': 'BTCUSDT', 'open': '46301.38000000', 'close': '46295.90000000', 'high': '46301.39000000', 'low': '46295.01000000', 'vol': '2.60764000', 'buy_vol': '0.87445000', 'num_trades': 119, 'candle_close': False}\n",
            "4\n",
            "4\n",
            "{'unix_time': 1639780945.623, 'symbol': 'BTCUSDT', 'open': '46301.38000000', 'close': '46290.65000000', 'high': '46301.39000000', 'low': '46284.53000000', 'vol': '4.73288000', 'buy_vol': '1.57457000', 'num_trades': 198, 'candle_close': False}\n",
            "5\n",
            "5\n",
            "5\n",
            "{'unix_time': 1639780951.996, 'symbol': 'BTCUSDT', 'open': '46301.38000000', 'close': '46281.74000000', 'high': '46301.39000000', 'low': '46280.03000000', 'vol': '5.79392000', 'buy_vol': '2.33997000', 'num_trades': 269, 'candle_close': False}\n",
            "6\n",
            "6\n",
            "{'unix_time': 1639780956.15, 'symbol': 'BTCUSDT', 'open': '46301.38000000', 'close': '46280.02000000', 'high': '46301.39000000', 'low': '46280.00000000', 'vol': '6.08705000', 'buy_vol': '2.49097000', 'num_trades': 296, 'candle_close': False}\n",
            "7\n",
            "7\n",
            "{'unix_time': 1639780960.863, 'symbol': 'BTCUSDT', 'open': '46301.38000000', 'close': '46272.80000000', 'high': '46301.39000000', 'low': '46268.37000000', 'vol': '7.70497000', 'buy_vol': '3.19702000', 'num_trades': 367, 'candle_close': False}\n",
            "8\n",
            "8\n"
          ]
        },
        {
          "output_type": "execute_result",
          "data": {
            "text/plain": [
              "False"
            ]
          },
          "metadata": {},
          "execution_count": 30
        }
      ]
    },
    {
      "cell_type": "code",
      "source": [
        " # https://towardsdatascience.com/google-colab-import-and-export-datasets-eccf801e2971\n",
        " df.to_csv(\"/btcprices.csv\", index=False, encoding='utf-8-sig')\n",
        " df\n",
        "#  from google.colab import files\n",
        "#  df.to_csv('sample.csv')\n",
        "#  files.download('sample.csv')"
      ],
      "metadata": {
        "colab": {
          "base_uri": "https://localhost:8080/",
          "height": 458
        },
        "id": "Nj-m6mK8CJkY",
        "outputId": "3c40c8d1-fc72-4253-bd74-7cee52c51ac6"
      },
      "execution_count": null,
      "outputs": [
        {
          "output_type": "execute_result",
          "data": {
            "text/html": [
              "\n",
              "  <div id=\"df-d3d46a6a-8530-4f52-84cc-c4ed6b6f1ce9\">\n",
              "    <div class=\"colab-df-container\">\n",
              "      <div>\n",
              "<style scoped>\n",
              "    .dataframe tbody tr th:only-of-type {\n",
              "        vertical-align: middle;\n",
              "    }\n",
              "\n",
              "    .dataframe tbody tr th {\n",
              "        vertical-align: top;\n",
              "    }\n",
              "\n",
              "    .dataframe thead th {\n",
              "        text-align: right;\n",
              "    }\n",
              "</style>\n",
              "<table border=\"1\" class=\"dataframe\">\n",
              "  <thead>\n",
              "    <tr style=\"text-align: right;\">\n",
              "      <th></th>\n",
              "      <th>unix_time</th>\n",
              "      <th>symbol</th>\n",
              "      <th>open</th>\n",
              "      <th>close</th>\n",
              "      <th>high</th>\n",
              "      <th>low</th>\n",
              "      <th>vol</th>\n",
              "      <th>buy_vol</th>\n",
              "      <th>num_trades</th>\n",
              "      <th>candle_close</th>\n",
              "    </tr>\n",
              "  </thead>\n",
              "  <tbody>\n",
              "    <tr>\n",
              "      <th>0</th>\n",
              "      <td>1.639781e+09</td>\n",
              "      <td>BTCUSDT</td>\n",
              "      <td>46298.59000000</td>\n",
              "      <td>46296.18000000</td>\n",
              "      <td>46298.60000000</td>\n",
              "      <td>46295.00000000</td>\n",
              "      <td>10.00030000</td>\n",
              "      <td>7.82463000</td>\n",
              "      <td>355</td>\n",
              "      <td>False</td>\n",
              "    </tr>\n",
              "    <tr>\n",
              "      <th>1</th>\n",
              "      <td>1.639781e+09</td>\n",
              "      <td>BTCUSDT</td>\n",
              "      <td>46298.59000000</td>\n",
              "      <td>46296.18000000</td>\n",
              "      <td>46298.60000000</td>\n",
              "      <td>46295.00000000</td>\n",
              "      <td>10.02332000</td>\n",
              "      <td>7.84688000</td>\n",
              "      <td>358</td>\n",
              "      <td>False</td>\n",
              "    </tr>\n",
              "    <tr>\n",
              "      <th>2</th>\n",
              "      <td>1.639781e+09</td>\n",
              "      <td>BTCUSDT</td>\n",
              "      <td>46298.59000000</td>\n",
              "      <td>46301.39000000</td>\n",
              "      <td>46309.26000000</td>\n",
              "      <td>46295.00000000</td>\n",
              "      <td>10.98056000</td>\n",
              "      <td>8.67580000</td>\n",
              "      <td>406</td>\n",
              "      <td>True</td>\n",
              "    </tr>\n",
              "    <tr>\n",
              "      <th>3</th>\n",
              "      <td>1.639781e+09</td>\n",
              "      <td>BTCUSDT</td>\n",
              "      <td>46301.38000000</td>\n",
              "      <td>46300.37000000</td>\n",
              "      <td>46301.39000000</td>\n",
              "      <td>46295.12000000</td>\n",
              "      <td>1.02437000</td>\n",
              "      <td>0.36406000</td>\n",
              "      <td>35</td>\n",
              "      <td>False</td>\n",
              "    </tr>\n",
              "    <tr>\n",
              "      <th>4</th>\n",
              "      <td>1.639781e+09</td>\n",
              "      <td>BTCUSDT</td>\n",
              "      <td>46301.38000000</td>\n",
              "      <td>46297.12000000</td>\n",
              "      <td>46301.39000000</td>\n",
              "      <td>46295.01000000</td>\n",
              "      <td>1.75706000</td>\n",
              "      <td>0.49834000</td>\n",
              "      <td>76</td>\n",
              "      <td>False</td>\n",
              "    </tr>\n",
              "    <tr>\n",
              "      <th>5</th>\n",
              "      <td>1.639781e+09</td>\n",
              "      <td>BTCUSDT</td>\n",
              "      <td>46301.38000000</td>\n",
              "      <td>46295.77000000</td>\n",
              "      <td>46301.39000000</td>\n",
              "      <td>46295.01000000</td>\n",
              "      <td>2.06654000</td>\n",
              "      <td>0.56894000</td>\n",
              "      <td>99</td>\n",
              "      <td>False</td>\n",
              "    </tr>\n",
              "    <tr>\n",
              "      <th>6</th>\n",
              "      <td>1.639781e+09</td>\n",
              "      <td>BTCUSDT</td>\n",
              "      <td>46301.38000000</td>\n",
              "      <td>46295.90000000</td>\n",
              "      <td>46301.39000000</td>\n",
              "      <td>46295.01000000</td>\n",
              "      <td>2.60764000</td>\n",
              "      <td>0.87445000</td>\n",
              "      <td>119</td>\n",
              "      <td>False</td>\n",
              "    </tr>\n",
              "    <tr>\n",
              "      <th>7</th>\n",
              "      <td>1.639781e+09</td>\n",
              "      <td>BTCUSDT</td>\n",
              "      <td>46301.38000000</td>\n",
              "      <td>46290.65000000</td>\n",
              "      <td>46301.39000000</td>\n",
              "      <td>46284.53000000</td>\n",
              "      <td>4.73288000</td>\n",
              "      <td>1.57457000</td>\n",
              "      <td>198</td>\n",
              "      <td>False</td>\n",
              "    </tr>\n",
              "    <tr>\n",
              "      <th>8</th>\n",
              "      <td>1.639781e+09</td>\n",
              "      <td>BTCUSDT</td>\n",
              "      <td>46301.38000000</td>\n",
              "      <td>46281.74000000</td>\n",
              "      <td>46301.39000000</td>\n",
              "      <td>46280.03000000</td>\n",
              "      <td>5.79392000</td>\n",
              "      <td>2.33997000</td>\n",
              "      <td>269</td>\n",
              "      <td>False</td>\n",
              "    </tr>\n",
              "    <tr>\n",
              "      <th>9</th>\n",
              "      <td>1.639781e+09</td>\n",
              "      <td>BTCUSDT</td>\n",
              "      <td>46301.38000000</td>\n",
              "      <td>46280.02000000</td>\n",
              "      <td>46301.39000000</td>\n",
              "      <td>46280.00000000</td>\n",
              "      <td>6.08705000</td>\n",
              "      <td>2.49097000</td>\n",
              "      <td>296</td>\n",
              "      <td>False</td>\n",
              "    </tr>\n",
              "    <tr>\n",
              "      <th>10</th>\n",
              "      <td>1.639781e+09</td>\n",
              "      <td>BTCUSDT</td>\n",
              "      <td>46301.38000000</td>\n",
              "      <td>46272.80000000</td>\n",
              "      <td>46301.39000000</td>\n",
              "      <td>46268.37000000</td>\n",
              "      <td>7.70497000</td>\n",
              "      <td>3.19702000</td>\n",
              "      <td>367</td>\n",
              "      <td>False</td>\n",
              "    </tr>\n",
              "  </tbody>\n",
              "</table>\n",
              "</div>\n",
              "      <button class=\"colab-df-convert\" onclick=\"convertToInteractive('df-d3d46a6a-8530-4f52-84cc-c4ed6b6f1ce9')\"\n",
              "              title=\"Convert this dataframe to an interactive table.\"\n",
              "              style=\"display:none;\">\n",
              "        \n",
              "  <svg xmlns=\"http://www.w3.org/2000/svg\" height=\"24px\"viewBox=\"0 0 24 24\"\n",
              "       width=\"24px\">\n",
              "    <path d=\"M0 0h24v24H0V0z\" fill=\"none\"/>\n",
              "    <path d=\"M18.56 5.44l.94 2.06.94-2.06 2.06-.94-2.06-.94-.94-2.06-.94 2.06-2.06.94zm-11 1L8.5 8.5l.94-2.06 2.06-.94-2.06-.94L8.5 2.5l-.94 2.06-2.06.94zm10 10l.94 2.06.94-2.06 2.06-.94-2.06-.94-.94-2.06-.94 2.06-2.06.94z\"/><path d=\"M17.41 7.96l-1.37-1.37c-.4-.4-.92-.59-1.43-.59-.52 0-1.04.2-1.43.59L10.3 9.45l-7.72 7.72c-.78.78-.78 2.05 0 2.83L4 21.41c.39.39.9.59 1.41.59.51 0 1.02-.2 1.41-.59l7.78-7.78 2.81-2.81c.8-.78.8-2.07 0-2.86zM5.41 20L4 18.59l7.72-7.72 1.47 1.35L5.41 20z\"/>\n",
              "  </svg>\n",
              "      </button>\n",
              "      \n",
              "  <style>\n",
              "    .colab-df-container {\n",
              "      display:flex;\n",
              "      flex-wrap:wrap;\n",
              "      gap: 12px;\n",
              "    }\n",
              "\n",
              "    .colab-df-convert {\n",
              "      background-color: #E8F0FE;\n",
              "      border: none;\n",
              "      border-radius: 50%;\n",
              "      cursor: pointer;\n",
              "      display: none;\n",
              "      fill: #1967D2;\n",
              "      height: 32px;\n",
              "      padding: 0 0 0 0;\n",
              "      width: 32px;\n",
              "    }\n",
              "\n",
              "    .colab-df-convert:hover {\n",
              "      background-color: #E2EBFA;\n",
              "      box-shadow: 0px 1px 2px rgba(60, 64, 67, 0.3), 0px 1px 3px 1px rgba(60, 64, 67, 0.15);\n",
              "      fill: #174EA6;\n",
              "    }\n",
              "\n",
              "    [theme=dark] .colab-df-convert {\n",
              "      background-color: #3B4455;\n",
              "      fill: #D2E3FC;\n",
              "    }\n",
              "\n",
              "    [theme=dark] .colab-df-convert:hover {\n",
              "      background-color: #434B5C;\n",
              "      box-shadow: 0px 1px 3px 1px rgba(0, 0, 0, 0.15);\n",
              "      filter: drop-shadow(0px 1px 2px rgba(0, 0, 0, 0.3));\n",
              "      fill: #FFFFFF;\n",
              "    }\n",
              "  </style>\n",
              "\n",
              "      <script>\n",
              "        const buttonEl =\n",
              "          document.querySelector('#df-d3d46a6a-8530-4f52-84cc-c4ed6b6f1ce9 button.colab-df-convert');\n",
              "        buttonEl.style.display =\n",
              "          google.colab.kernel.accessAllowed ? 'block' : 'none';\n",
              "\n",
              "        async function convertToInteractive(key) {\n",
              "          const element = document.querySelector('#df-d3d46a6a-8530-4f52-84cc-c4ed6b6f1ce9');\n",
              "          const dataTable =\n",
              "            await google.colab.kernel.invokeFunction('convertToInteractive',\n",
              "                                                     [key], {});\n",
              "          if (!dataTable) return;\n",
              "\n",
              "          const docLinkHtml = 'Like what you see? Visit the ' +\n",
              "            '<a target=\"_blank\" href=https://colab.research.google.com/notebooks/data_table.ipynb>data table notebook</a>'\n",
              "            + ' to learn more about interactive tables.';\n",
              "          element.innerHTML = '';\n",
              "          dataTable['output_type'] = 'display_data';\n",
              "          await google.colab.output.renderOutput(dataTable, element);\n",
              "          const docLink = document.createElement('div');\n",
              "          docLink.innerHTML = docLinkHtml;\n",
              "          element.appendChild(docLink);\n",
              "        }\n",
              "      </script>\n",
              "    </div>\n",
              "  </div>\n",
              "  "
            ],
            "text/plain": [
              "       unix_time   symbol            open  ...     buy_vol num_trades candle_close\n",
              "0   1.639781e+09  BTCUSDT  46298.59000000  ...  7.82463000        355        False\n",
              "1   1.639781e+09  BTCUSDT  46298.59000000  ...  7.84688000        358        False\n",
              "2   1.639781e+09  BTCUSDT  46298.59000000  ...  8.67580000        406         True\n",
              "3   1.639781e+09  BTCUSDT  46301.38000000  ...  0.36406000         35        False\n",
              "4   1.639781e+09  BTCUSDT  46301.38000000  ...  0.49834000         76        False\n",
              "5   1.639781e+09  BTCUSDT  46301.38000000  ...  0.56894000         99        False\n",
              "6   1.639781e+09  BTCUSDT  46301.38000000  ...  0.87445000        119        False\n",
              "7   1.639781e+09  BTCUSDT  46301.38000000  ...  1.57457000        198        False\n",
              "8   1.639781e+09  BTCUSDT  46301.38000000  ...  2.33997000        269        False\n",
              "9   1.639781e+09  BTCUSDT  46301.38000000  ...  2.49097000        296        False\n",
              "10  1.639781e+09  BTCUSDT  46301.38000000  ...  3.19702000        367        False\n",
              "\n",
              "[11 rows x 10 columns]"
            ]
          },
          "metadata": {},
          "execution_count": 31
        }
      ]
    },
    {
      "cell_type": "code",
      "source": [
        "with open('/btcusdt.csv', 'w') as writefile:\n",
        "    writefile.write(\"test\\ttest2\\n\")"
      ],
      "metadata": {
        "id": "HYFkTFV_hKou"
      },
      "execution_count": null,
      "outputs": []
    }
  ]
}